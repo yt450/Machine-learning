{
 "cells": [
  {
   "cell_type": "markdown",
   "metadata": {},
   "source": [
    "# this code is used to test the significance of forecasting performance of different models using DM test (1995). It turns out that SVM cannot beat OLS and ANN signicantly."
   ]
  },
  {
   "cell_type": "code",
   "execution_count": null,
   "metadata": {},
   "outputs": [],
   "source": [
    "from dm_test import dm_test\n",
    "import numpy as np\n",
    "import pandas as pd\n",
    "from sklearn import preprocessing\n",
    "from sklearn.model_selection import train_test_split\n",
    "from sklearn.metrics import mean_squared_error\n",
    "data = pd.read_excel('data_used-3.xlsx',header=None)\n",
    "data = np.array(data)\n",
    "X = data[0:132,0:40]\n",
    "X_sample = X[2:131,0:39]\n",
    "PE = X_sample[:,4].reshape(129,1)\n",
    "CBLR = X_sample[:,34].reshape(129,1)\n",
    "y1 = X[2:131,-1].reshape(129,1)\n",
    "# y2 = X[1:130,-1].reshape(129,1)\n",
    "y3 = X[0:129,-1].reshape(129,1)\n",
    "X_postselected = np.hstack((PE,CBLR,y1,y3))\n",
    "Standardscaler = preprocessing.StandardScaler().fit(X_postselected)\n",
    "X_postselected = Standardscaler.transform(X_postselected)\n",
    "y = X[3:132,-1]\n",
    "\n",
    "# ylag = data.values[0:147,-1]\n",
    "# ylag = ylag.reshape(147,1)\n",
    "# X = np.hstack((Xfeature,ylag))\n",
    "# y = data.values[1:148,-1]\n",
    "# y = y.reshape(147,1)\n",
    "\n",
    "X_train, X_test, y_train, y_test = train_test_split(X_postselected, y, train_size = 117, test_size=12,shuffle = False)"
   ]
  },
  {
   "cell_type": "code",
   "execution_count": 36,
   "metadata": {},
   "outputs": [],
   "source": [
    "y_predict_SVM1 = np.array([-9.07318221, -9.01666264, -8.80905727, -9.36919782, -9.40785442,\n",
    "       -9.04169227])"
   ]
  },
  {
   "cell_type": "code",
   "execution_count": 37,
   "metadata": {},
   "outputs": [],
   "source": [
    "y_predict_ANN1 = np.array([-8.77586634, -9.09144209, -8.55235147, -9.70728544, -9.34059286,\n",
    "       -9.05966882])"
   ]
  },
  {
   "cell_type": "code",
   "execution_count": 38,
   "metadata": {},
   "outputs": [],
   "source": [
    "y_predict_OLS1 = np.array([-8.80508477, -8.79284177, -8.49913458, -9.68650061, -9.48205545,\n",
    "       -8.86235302])"
   ]
  },
  {
   "cell_type": "code",
   "execution_count": 39,
   "metadata": {},
   "outputs": [],
   "source": [
    "y_predict_SVM2v =np.array ([-8.35326796, -8.70392437, -8.82183126, -9.06610938, -8.73569102,\n",
    "       -8.88172665, -8.9904417 , -9.00345006, -8.68769932, -9.78700025,\n",
    "       -9.57640218, -9.24493646])"
   ]
  },
  {
   "cell_type": "code",
   "execution_count": 40,
   "metadata": {},
   "outputs": [],
   "source": [
    "y_predict_OLS2v = np.array([-8.22447817, -9.00132174, -8.79331473, -8.94214324, -8.69467831,\n",
    "       -8.84379252, -8.87138132, -8.86104468, -8.54379042, -9.83862179,\n",
    "       -9.60308897, -8.88504737])"
   ]
  },
  {
   "cell_type": "code",
   "execution_count": 41,
   "metadata": {},
   "outputs": [],
   "source": [
    "y_predict_SVM2 = np.array([-8.36736579, -9.09046959, -8.76773027, -8.99892685, -8.75301075,\n",
    "       -8.92645477, -8.9110788 , -9.02394808, -8.81377532, -9.7440744 ,\n",
    "       -9.51858922, -9.3739169 ])"
   ]
  },
  {
   "cell_type": "code",
   "execution_count": 42,
   "metadata": {},
   "outputs": [],
   "source": [
    "y_predict_ANN2 = np.array([-8.15810413, -9.01386741, -8.70958121, -8.76044064, -8.66363797,\n",
    "       -8.71782645, -8.69239887, -8.90629274, -8.57077911, -9.45309947,\n",
    "       -9.2916533 , -8.8575595 ])"
   ]
  },
  {
   "cell_type": "code",
   "execution_count": 43,
   "metadata": {},
   "outputs": [],
   "source": [
    "y_predict_OLS2 = np.array([-8.19776622, -8.90136846, -8.72266036, -8.86523554, -8.6473922 ,\n",
    "       -8.78920854, -8.80583441, -8.79156318, -8.5035896 , -9.64545254,\n",
    "       -9.47932156, -8.8293221 ])"
   ]
  },
  {
   "cell_type": "code",
   "execution_count": 44,
   "metadata": {},
   "outputs": [],
   "source": [
    "y_predict_SVM3 = np.array([-7.84764315, -7.94864475, -8.11449848, -8.30499361, -8.18153373,\n",
    "       -8.53843666, -8.33193353, -8.77390622, -8.79750736, -8.99048705,\n",
    "       -8.76756577, -8.92203452, -8.91900386, -8.95490937, -8.66313659,\n",
    "       -9.81012878, -9.37269166, -9.04936253])"
   ]
  },
  {
   "cell_type": "code",
   "execution_count": 45,
   "metadata": {},
   "outputs": [],
   "source": [
    "y_predict_ANN3 = np.array([-7.79923514, -7.93889513, -8.00968498, -8.35864789, -8.55481158,\n",
    "       -8.32169373, -8.17292633, -8.90505654, -8.70246125, -9.01025089,\n",
    "       -8.56839729, -8.69103056, -8.74342421, -8.7295615 , -8.68669743,\n",
    "       -9.60653119, -9.47970983, -8.85049504])"
   ]
  },
  {
   "cell_type": "code",
   "execution_count": 46,
   "metadata": {},
   "outputs": [],
   "source": [
    "y_predict_OLS3 = np.array([-7.80523857, -7.8961883 , -8.06285966, -8.25997538, -8.53401649,\n",
    "       -8.43603009, -8.2136528 , -8.88959039, -8.70277056, -8.82137556,\n",
    "       -8.62761904, -8.76969002, -8.78471667, -8.76777024, -8.43871725,\n",
    "       -9.63333047, -9.45735454, -8.80073863])"
   ]
  },
  {
   "cell_type": "code",
   "execution_count": 47,
   "metadata": {},
   "outputs": [],
   "source": [
    "y_predict_SVM4 = np.array([-7.38755962, -6.48813342, -7.10751249, -6.83151413, -7.53274161,\n",
    "       -7.40032703, -7.91286022, -7.92637353, -8.10995257, -8.36889808,\n",
    "       -8.59212512, -8.54011971, -8.38765924, -9.01697667, -8.76993954,\n",
    "       -9.04258323, -8.81495553, -8.91428524, -8.91254307, -8.91796904,\n",
    "       -8.76592611, -9.43214442, -9.61370101, -9.12519234])"
   ]
  },
  {
   "cell_type": "code",
   "execution_count": 48,
   "metadata": {},
   "outputs": [],
   "source": [
    "y_predict_ANN4 = np.array([-7.47849705, -6.44522621, -6.88506094, -6.90750765, -7.71326435,\n",
    "       -7.35375486, -7.81099819, -7.8146896 , -7.95826851, -8.3103815 ,\n",
    "       -8.53237102, -8.52628242, -8.18438932, -8.91923514, -8.60373268,\n",
    "       -8.7942178 , -8.63148153, -8.82917258, -8.78521063, -8.70100333,\n",
    "       -8.4272757 , -9.70241667, -9.31682972, -8.7972967 ])"
   ]
  },
  {
   "cell_type": "code",
   "execution_count": 49,
   "metadata": {},
   "outputs": [],
   "source": [
    "y_predict_OLS4 = np.array([-7.31080992, -6.15469478, -6.90928798, -6.81226192, -7.63996335,\n",
    "       -7.35383721, -7.81378277, -7.8860207 , -8.05600491, -8.24207617,\n",
    "       -8.51939328, -8.41047573, -8.18382822, -8.87184421, -8.70029682,\n",
    "       -8.793313  , -8.6328703 , -8.78722707, -8.8031164 , -8.78799329,\n",
    "       -8.47752821, -9.70206528, -9.49957045, -8.77852965])"
   ]
  },
  {
   "cell_type": "code",
   "execution_count": 54,
   "metadata": {},
   "outputs": [],
   "source": [
    "rt = dm_test(y_test,y_predict_OLS2,y_predict_OLS2v,h=1,crit=\"MSE\")"
   ]
  },
  {
   "cell_type": "code",
   "execution_count": 55,
   "metadata": {},
   "outputs": [
    {
     "name": "stdout",
     "output_type": "stream",
     "text": [
      "dm_return(DM=0.8249701547412628, p_value=0.4269167377349965)\n"
     ]
    }
   ],
   "source": [
    "print(rt)"
   ]
  },
  {
   "cell_type": "code",
   "execution_count": null,
   "metadata": {},
   "outputs": [],
   "source": []
  },
  {
   "cell_type": "code",
   "execution_count": null,
   "metadata": {},
   "outputs": [],
   "source": []
  },
  {
   "cell_type": "code",
   "execution_count": null,
   "metadata": {},
   "outputs": [],
   "source": []
  }
 ],
 "metadata": {
  "kernelspec": {
   "display_name": "Python 3",
   "language": "python",
   "name": "python3"
  },
  "language_info": {
   "codemirror_mode": {
    "name": "ipython",
    "version": 3
   },
   "file_extension": ".py",
   "mimetype": "text/x-python",
   "name": "python",
   "nbconvert_exporter": "python",
   "pygments_lexer": "ipython3",
   "version": "3.6.4"
  }
 },
 "nbformat": 4,
 "nbformat_minor": 2
}
